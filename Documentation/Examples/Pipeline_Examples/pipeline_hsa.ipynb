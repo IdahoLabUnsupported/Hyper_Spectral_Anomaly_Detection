{
 "cells": [
  {
   "cell_type": "markdown",
   "id": "91a150fd",
   "metadata": {},
   "source": [
    "# Hyper Spectral Anomaly Detection\n",
    "## Credit Card Fraud\n",
    "<sub><sub><sub>Copyright 2025, Battelle Energy Alliance, LLC, ALL RIGHTS RESERVED</sub></sub></sub>\n",
    "\n",
    "https://www.kaggle.com/datasets/mlg-ulb/creditcardfraud?resource=download"
   ]
  },
  {
   "cell_type": "code",
   "execution_count": null,
   "id": "61335015",
   "metadata": {},
   "outputs": [],
   "source": [
    "import sys\n",
    "import pandas as pd\n",
    "import numpy as np\n",
    "import matplotlib.pyplot as plt\n",
    "import seaborn as sns\n",
    "\n",
    "path = \"../../HSA_Classes\"\n",
    "sys.path.append(path)\n",
    "from sklearn.preprocessing import MaxAbsScaler\n",
    "import matplotlib.image as mpimg\n",
    "\n",
    "from PIL import Image\n",
    "from loguru import logger\n",
    "import Model as hsa_model\n",
    "import DataSet as hsa_dataset\n",
    "import Viz as hsa_viz\n",
    "from torch.utils.data import DataLoader\n",
    "\n",
    "logger.remove()\n",
    "logger.add(sink=f\"HSA_log.log\", level=\"CRITICAL\")\n",
    "import MultiFilter as hsa_multifilter"
   ]
  },
  {
   "cell_type": "code",
   "execution_count": null,
   "id": "ce0a6623",
   "metadata": {},
   "outputs": [],
   "source": [
    "path = \"creditcard.csv\"\n",
    "df = pd.read_csv(path)\n",
    "preprocessed_df = df.head(10000)\n",
    "print(preprocessed_df.shape)"
   ]
  },
  {
   "cell_type": "markdown",
   "id": "3229b7ea",
   "metadata": {},
   "source": [
    "## Instantiate\n",
    "Instantiate the model and dataloader with preprocessed data as a np.array()"
   ]
  },
  {
   "cell_type": "code",
   "execution_count": null,
   "id": "e7c8a885",
   "metadata": {},
   "outputs": [],
   "source": [
    "anomaly_std_tolerance = 1.2\n",
    "penalty_ratio = 0.75\n",
    "cutoff_distance = 2\n",
    "converge_toll = (1e-5,)\n",
    "\n",
    "batch_size = 1000\n",
    "iterations = 10000\n",
    "\n",
    "model = hsa_model.HSA_model(\n",
    "    penalty_ratio=penalty_ratio,\n",
    "    cutoff_distance=cutoff_distance,\n",
    "    converge_toll=converge_toll,\n",
    "    anomaly_std_tolerance=anomaly_std_tolerance,\n",
    "    logger=logger,\n",
    "    affinity_matrix_iterations=20,\n",
    "    lr=2.7,\n",
    "    multifilter_flag=0,\n",
    ")\n",
    "dataset = hsa_dataset.HSA_dataset(\n",
    "    preprocessed_np=preprocessed_df.to_numpy(), logger=logger\n",
    ")\n",
    "dataloader = DataLoader(dataset, batch_size=batch_size)"
   ]
  },
  {
   "cell_type": "code",
   "execution_count": null,
   "id": "d3f1d80d",
   "metadata": {},
   "outputs": [],
   "source": [
    "import sys\n",
    "\n",
    "path = \"../\"\n",
    "sys.path.append(path)\n",
    "import Pipeline\n",
    "from loguru import logger\n",
    "import pandas as pd\n",
    "\n",
    "penalty_ratio = 0.9\n",
    "cutoff_distance = 1.2\n",
    "lr = 2.7\n",
    "anomaly_std_tolerance = 1.2\n",
    "bin_count = 3\n",
    "max_spawn_dummies = 30\n",
    "percent_variance_explained = 1\n",
    "min_additional_percent_variance_exp = 0\n",
    "logging_level = \"TRACE\"\n",
    "\n",
    "pipe = Pipeline.HSA_pipeline(\n",
    "    penalty_ratio,\n",
    "    cutoff_distance,\n",
    "    lr,\n",
    "    anomaly_std_tolerance,\n",
    "    bin_count,\n",
    "    max_spawn_dummies,\n",
    "    percent_variance_explained,\n",
    "    min_additional_percent_variance_exp,\n",
    "    logger=logger,\n",
    "    logging_level=\"DEBUG\",\n",
    "    base_directory=\"./\",\n",
    "    num_workers=0,\n",
    "    unique_id_str=\"\",\n",
    ")\n",
    "\n",
    "results_df = pipe.pipeline(preprocessed_df, 0)"
   ]
  },
  {
   "cell_type": "code",
   "execution_count": null,
   "id": "f4a305b8",
   "metadata": {},
   "outputs": [],
   "source": [
    "display(results_df[results_df[\"Class\"] == 1])\n",
    "print(f\"Number of Anomalous Predictions: {len(results_df)}\")"
   ]
  },
  {
   "cell_type": "code",
   "execution_count": null,
   "id": "c50934e9",
   "metadata": {},
   "outputs": [],
   "source": []
  }
 ],
 "metadata": {
  "kernelspec": {
   "display_name": "HSA",
   "language": "python",
   "name": "python3"
  },
  "language_info": {
   "codemirror_mode": {
    "name": "ipython",
    "version": 3
   },
   "file_extension": ".py",
   "mimetype": "text/x-python",
   "name": "python",
   "nbconvert_exporter": "python",
   "pygments_lexer": "ipython3",
   "version": "3.13.2"
  }
 },
 "nbformat": 4,
 "nbformat_minor": 5
}
